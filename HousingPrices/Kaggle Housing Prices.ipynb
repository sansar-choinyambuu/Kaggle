{
 "cells": [
  {
   "cell_type": "markdown",
   "metadata": {},
   "source": [
    "# 1. Read data and explore"
   ]
  },
  {
   "cell_type": "code",
   "execution_count": 378,
   "metadata": {},
   "outputs": [],
   "source": [
    "import pandas as pd\n",
    "\n",
    "# assuming data files in the same folder as this notebook\n",
    "train_data = pd.read_csv(\"train.csv\")\n",
    "test = pd.read_csv(\"test.csv\")"
   ]
  },
  {
   "cell_type": "code",
   "execution_count": 379,
   "metadata": {},
   "outputs": [
    {
     "data": {
      "text/html": [
       "<div>\n",
       "<style scoped>\n",
       "    .dataframe tbody tr th:only-of-type {\n",
       "        vertical-align: middle;\n",
       "    }\n",
       "\n",
       "    .dataframe tbody tr th {\n",
       "        vertical-align: top;\n",
       "    }\n",
       "\n",
       "    .dataframe thead th {\n",
       "        text-align: right;\n",
       "    }\n",
       "</style>\n",
       "<table border=\"1\" class=\"dataframe\">\n",
       "  <thead>\n",
       "    <tr style=\"text-align: right;\">\n",
       "      <th></th>\n",
       "      <th>Id</th>\n",
       "      <th>MSSubClass</th>\n",
       "      <th>MSZoning</th>\n",
       "      <th>LotFrontage</th>\n",
       "      <th>LotArea</th>\n",
       "      <th>Street</th>\n",
       "      <th>Alley</th>\n",
       "      <th>LotShape</th>\n",
       "      <th>LandContour</th>\n",
       "      <th>Utilities</th>\n",
       "      <th>...</th>\n",
       "      <th>PoolArea</th>\n",
       "      <th>PoolQC</th>\n",
       "      <th>Fence</th>\n",
       "      <th>MiscFeature</th>\n",
       "      <th>MiscVal</th>\n",
       "      <th>MoSold</th>\n",
       "      <th>YrSold</th>\n",
       "      <th>SaleType</th>\n",
       "      <th>SaleCondition</th>\n",
       "      <th>SalePrice</th>\n",
       "    </tr>\n",
       "  </thead>\n",
       "  <tbody>\n",
       "    <tr>\n",
       "      <th>0</th>\n",
       "      <td>1</td>\n",
       "      <td>60</td>\n",
       "      <td>RL</td>\n",
       "      <td>65.0</td>\n",
       "      <td>8450</td>\n",
       "      <td>Pave</td>\n",
       "      <td>NaN</td>\n",
       "      <td>Reg</td>\n",
       "      <td>Lvl</td>\n",
       "      <td>AllPub</td>\n",
       "      <td>...</td>\n",
       "      <td>0</td>\n",
       "      <td>NaN</td>\n",
       "      <td>NaN</td>\n",
       "      <td>NaN</td>\n",
       "      <td>0</td>\n",
       "      <td>2</td>\n",
       "      <td>2008</td>\n",
       "      <td>WD</td>\n",
       "      <td>Normal</td>\n",
       "      <td>208500</td>\n",
       "    </tr>\n",
       "    <tr>\n",
       "      <th>1</th>\n",
       "      <td>2</td>\n",
       "      <td>20</td>\n",
       "      <td>RL</td>\n",
       "      <td>80.0</td>\n",
       "      <td>9600</td>\n",
       "      <td>Pave</td>\n",
       "      <td>NaN</td>\n",
       "      <td>Reg</td>\n",
       "      <td>Lvl</td>\n",
       "      <td>AllPub</td>\n",
       "      <td>...</td>\n",
       "      <td>0</td>\n",
       "      <td>NaN</td>\n",
       "      <td>NaN</td>\n",
       "      <td>NaN</td>\n",
       "      <td>0</td>\n",
       "      <td>5</td>\n",
       "      <td>2007</td>\n",
       "      <td>WD</td>\n",
       "      <td>Normal</td>\n",
       "      <td>181500</td>\n",
       "    </tr>\n",
       "    <tr>\n",
       "      <th>2</th>\n",
       "      <td>3</td>\n",
       "      <td>60</td>\n",
       "      <td>RL</td>\n",
       "      <td>68.0</td>\n",
       "      <td>11250</td>\n",
       "      <td>Pave</td>\n",
       "      <td>NaN</td>\n",
       "      <td>IR1</td>\n",
       "      <td>Lvl</td>\n",
       "      <td>AllPub</td>\n",
       "      <td>...</td>\n",
       "      <td>0</td>\n",
       "      <td>NaN</td>\n",
       "      <td>NaN</td>\n",
       "      <td>NaN</td>\n",
       "      <td>0</td>\n",
       "      <td>9</td>\n",
       "      <td>2008</td>\n",
       "      <td>WD</td>\n",
       "      <td>Normal</td>\n",
       "      <td>223500</td>\n",
       "    </tr>\n",
       "    <tr>\n",
       "      <th>3</th>\n",
       "      <td>4</td>\n",
       "      <td>70</td>\n",
       "      <td>RL</td>\n",
       "      <td>60.0</td>\n",
       "      <td>9550</td>\n",
       "      <td>Pave</td>\n",
       "      <td>NaN</td>\n",
       "      <td>IR1</td>\n",
       "      <td>Lvl</td>\n",
       "      <td>AllPub</td>\n",
       "      <td>...</td>\n",
       "      <td>0</td>\n",
       "      <td>NaN</td>\n",
       "      <td>NaN</td>\n",
       "      <td>NaN</td>\n",
       "      <td>0</td>\n",
       "      <td>2</td>\n",
       "      <td>2006</td>\n",
       "      <td>WD</td>\n",
       "      <td>Abnorml</td>\n",
       "      <td>140000</td>\n",
       "    </tr>\n",
       "    <tr>\n",
       "      <th>4</th>\n",
       "      <td>5</td>\n",
       "      <td>60</td>\n",
       "      <td>RL</td>\n",
       "      <td>84.0</td>\n",
       "      <td>14260</td>\n",
       "      <td>Pave</td>\n",
       "      <td>NaN</td>\n",
       "      <td>IR1</td>\n",
       "      <td>Lvl</td>\n",
       "      <td>AllPub</td>\n",
       "      <td>...</td>\n",
       "      <td>0</td>\n",
       "      <td>NaN</td>\n",
       "      <td>NaN</td>\n",
       "      <td>NaN</td>\n",
       "      <td>0</td>\n",
       "      <td>12</td>\n",
       "      <td>2008</td>\n",
       "      <td>WD</td>\n",
       "      <td>Normal</td>\n",
       "      <td>250000</td>\n",
       "    </tr>\n",
       "  </tbody>\n",
       "</table>\n",
       "<p>5 rows × 81 columns</p>\n",
       "</div>"
      ],
      "text/plain": [
       "   Id  MSSubClass MSZoning  LotFrontage  LotArea Street Alley LotShape  \\\n",
       "0   1          60       RL         65.0     8450   Pave   NaN      Reg   \n",
       "1   2          20       RL         80.0     9600   Pave   NaN      Reg   \n",
       "2   3          60       RL         68.0    11250   Pave   NaN      IR1   \n",
       "3   4          70       RL         60.0     9550   Pave   NaN      IR1   \n",
       "4   5          60       RL         84.0    14260   Pave   NaN      IR1   \n",
       "\n",
       "  LandContour Utilities    ...     PoolArea PoolQC Fence MiscFeature MiscVal  \\\n",
       "0         Lvl    AllPub    ...            0    NaN   NaN         NaN       0   \n",
       "1         Lvl    AllPub    ...            0    NaN   NaN         NaN       0   \n",
       "2         Lvl    AllPub    ...            0    NaN   NaN         NaN       0   \n",
       "3         Lvl    AllPub    ...            0    NaN   NaN         NaN       0   \n",
       "4         Lvl    AllPub    ...            0    NaN   NaN         NaN       0   \n",
       "\n",
       "  MoSold YrSold  SaleType  SaleCondition  SalePrice  \n",
       "0      2   2008        WD         Normal     208500  \n",
       "1      5   2007        WD         Normal     181500  \n",
       "2      9   2008        WD         Normal     223500  \n",
       "3      2   2006        WD        Abnorml     140000  \n",
       "4     12   2008        WD         Normal     250000  \n",
       "\n",
       "[5 rows x 81 columns]"
      ]
     },
     "execution_count": 379,
     "metadata": {},
     "output_type": "execute_result"
    }
   ],
   "source": [
    "train_data.head()\n",
    "# read data_description.txt for details"
   ]
  },
  {
   "cell_type": "code",
   "execution_count": 380,
   "metadata": {},
   "outputs": [
    {
     "data": {
      "text/plain": [
       "SalePrice      1.000000\n",
       "OverallQual    0.790982\n",
       "GrLivArea      0.708624\n",
       "GarageCars     0.640409\n",
       "GarageArea     0.623431\n",
       "TotalBsmtSF    0.613581\n",
       "1stFlrSF       0.605852\n",
       "FullBath       0.560664\n",
       "Name: SalePrice, dtype: float64"
      ]
     },
     "execution_count": 380,
     "metadata": {},
     "output_type": "execute_result"
    }
   ],
   "source": [
    "train_data.corr()[\"SalePrice\"].sort_values(ascending = False)[:8]"
   ]
  },
  {
   "cell_type": "markdown",
   "metadata": {},
   "source": [
    "*The following features have the highest correlation to sales prices: Overall quality, above ground living area size, garage size, basement size, number of bathrooms etc.*"
   ]
  },
  {
   "cell_type": "markdown",
   "metadata": {},
   "source": [
    "# 2. Data preparation"
   ]
  },
  {
   "cell_type": "markdown",
   "metadata": {},
   "source": [
    "In general the following preparation steps are needed:\n",
    "\n",
    "* Fill in missing values\n",
    "    * For categorical features, take the most frequent value e.g. MSZoning\n",
    "    * Add missing category if the none category was interpreted as NA to pandas e.g. BsmtQual\n",
    "    * For numerical features, take the median value e.g. LotFrontage\n",
    "* Scale the numerical features e.g. LotArea\n",
    "* Discretize year features into one hot category e.g. YearBuilt\n",
    "* One-hot encode the categorical values that has no order e.g. MSSubClass\n",
    "* Ordinal encode the categorical values that has order e.g. OverallQual"
   ]
  },
  {
   "cell_type": "code",
   "execution_count": 381,
   "metadata": {},
   "outputs": [
    {
     "name": "stdout",
     "output_type": "stream",
     "text": [
      "<class 'pandas.core.frame.DataFrame'>\n",
      "Int64Index: 2627 entries, 254 to 1458\n",
      "Data columns (total 81 columns):\n",
      "1stFlrSF         2627 non-null int64\n",
      "2ndFlrSF         2627 non-null int64\n",
      "3SsnPorch        2627 non-null int64\n",
      "Alley            181 non-null object\n",
      "BedroomAbvGr     2627 non-null int64\n",
      "BldgType         2627 non-null object\n",
      "BsmtCond         2554 non-null object\n",
      "BsmtExposure     2555 non-null object\n",
      "BsmtFinSF1       2626 non-null float64\n",
      "BsmtFinSF2       2626 non-null float64\n",
      "BsmtFinType1     2557 non-null object\n",
      "BsmtFinType2     2557 non-null object\n",
      "BsmtFullBath     2625 non-null float64\n",
      "BsmtHalfBath     2625 non-null float64\n",
      "BsmtQual         2555 non-null object\n",
      "BsmtUnfSF        2626 non-null float64\n",
      "CentralAir       2627 non-null object\n",
      "Condition1       2627 non-null object\n",
      "Condition2       2627 non-null object\n",
      "Electrical       2626 non-null object\n",
      "EnclosedPorch    2627 non-null int64\n",
      "ExterCond        2627 non-null object\n",
      "ExterQual        2627 non-null object\n",
      "Exterior1st      2626 non-null object\n",
      "Exterior2nd      2626 non-null object\n",
      "Fence            523 non-null object\n",
      "FireplaceQu      1350 non-null object\n",
      "Fireplaces       2627 non-null int64\n",
      "Foundation       2627 non-null object\n",
      "FullBath         2627 non-null int64\n",
      "Functional       2625 non-null object\n",
      "GarageArea       2626 non-null float64\n",
      "GarageCars       2626 non-null float64\n",
      "GarageCond       2485 non-null object\n",
      "GarageFinish     2485 non-null object\n",
      "GarageQual       2485 non-null object\n",
      "GarageType       2487 non-null object\n",
      "GarageYrBlt      2485 non-null float64\n",
      "GrLivArea        2627 non-null int64\n",
      "HalfBath         2627 non-null int64\n",
      "Heating          2627 non-null object\n",
      "HeatingQC        2627 non-null object\n",
      "HouseStyle       2627 non-null object\n",
      "Id               2627 non-null int64\n",
      "KitchenAbvGr     2627 non-null int64\n",
      "KitchenQual      2626 non-null object\n",
      "LandContour      2627 non-null object\n",
      "LandSlope        2627 non-null object\n",
      "LotArea          2627 non-null int64\n",
      "LotConfig        2627 non-null object\n",
      "LotFrontage      2183 non-null float64\n",
      "LotShape         2627 non-null object\n",
      "LowQualFinSF     2627 non-null int64\n",
      "MSSubClass       2627 non-null int64\n",
      "MSZoning         2623 non-null object\n",
      "MasVnrArea       2606 non-null float64\n",
      "MasVnrType       2605 non-null object\n",
      "MiscFeature      97 non-null object\n",
      "MiscVal          2627 non-null int64\n",
      "MoSold           2627 non-null int64\n",
      "Neighborhood     2627 non-null object\n",
      "OpenPorchSF      2627 non-null int64\n",
      "OverallCond      2627 non-null int64\n",
      "OverallQual      2627 non-null int64\n",
      "PavedDrive       2627 non-null object\n",
      "PoolArea         2627 non-null int64\n",
      "PoolQC           9 non-null object\n",
      "RoofMatl         2627 non-null object\n",
      "RoofStyle        2627 non-null object\n",
      "SaleCondition    2627 non-null object\n",
      "SalePrice        1168 non-null float64\n",
      "SaleType         2626 non-null object\n",
      "ScreenPorch      2627 non-null int64\n",
      "Street           2627 non-null object\n",
      "TotRmsAbvGrd     2627 non-null int64\n",
      "TotalBsmtSF      2626 non-null float64\n",
      "Utilities        2625 non-null object\n",
      "WoodDeckSF       2627 non-null int64\n",
      "YearBuilt        2627 non-null int64\n",
      "YearRemodAdd     2627 non-null int64\n",
      "YrSold           2627 non-null int64\n",
      "dtypes: float64(12), int64(26), object(43)\n",
      "memory usage: 1.6+ MB\n"
     ]
    }
   ],
   "source": [
    "# merge train and test to find missing values\n",
    "merged = pd.concat([train, test])\n",
    "merged.info()"
   ]
  },
  {
   "cell_type": "code",
   "execution_count": 382,
   "metadata": {},
   "outputs": [],
   "source": [
    "# Fill in the missing values\n",
    "def fill_missing(original_df):\n",
    "    \n",
    "    df = original_df.copy()\n",
    "    \n",
    "    # numerical\n",
    "    df[\"BsmtFinSF1\"].fillna(np.mean(train_data[\"BsmtFinSF1\"]), inplace = True)\n",
    "    df[\"BsmtFinSF2\"].fillna(np.mean(train_data[\"BsmtFinSF2\"]), inplace = True)\n",
    "    df[\"BsmtFullBath\"].fillna(np.mean(train_data[\"BsmtFullBath\"]), inplace = True)\n",
    "    df[\"BsmtHalfBath\"].fillna(np.mean(train_data[\"BsmtHalfBath\"]), inplace = True)\n",
    "    df[\"BsmtUnfSF\"].fillna(np.mean(train_data[\"BsmtUnfSF\"]), inplace = True)\n",
    "    df[\"GarageArea\"].fillna(np.mean(train_data[\"GarageArea\"]), inplace = True)\n",
    "    df[\"GarageCars\"].fillna(np.mean(train_data[\"GarageCars\"]), inplace = True)\n",
    "    df[\"GarageYrBlt\"].fillna(np.mean(train_data[\"GarageYrBlt\"]), inplace = True)\n",
    "    df[\"LotFrontage\"].fillna(np.mean(train_data[\"LotFrontage\"]), inplace = True)\n",
    "    df[\"MasVnrArea\"].fillna(np.mean(train_data[\"MasVnrArea\"]), inplace = True)\n",
    "    df[\"TotalBsmtSF\"].fillna(np.mean(train_data[\"TotalBsmtSF\"]), inplace = True)\n",
    "    \n",
    "    # categorical\n",
    "    df[\"BsmtCond\"].fillna(train_data[\"BsmtCond\"].value_counts().index[0], inplace = True)\n",
    "    df[\"BsmtExposure\"].fillna(train_data[\"BsmtExposure\"].value_counts().index[0], inplace = True)\n",
    "    df[\"BsmtFinType1\"].fillna(train_data[\"BsmtFinType1\"].value_counts().index[0], inplace = True)\n",
    "    df[\"BsmtFinType2\"].fillna(train_data[\"BsmtFinType2\"].value_counts().index[0], inplace = True)\n",
    "    df[\"BsmtQual\"].fillna(train_data[\"BsmtQual\"].value_counts().index[0], inplace = True)\n",
    "    df[\"Electrical\"].fillna(train_data[\"Electrical\"].value_counts().index[0], inplace = True)\n",
    "    df[\"Exterior1st\"].fillna(train_data[\"Exterior1st\"].value_counts().index[0], inplace = True)\n",
    "    df[\"Exterior2nd\"].fillna(train_data[\"Exterior2nd\"].value_counts().index[0], inplace = True)\n",
    "    df[\"Functional\"].fillna(train_data[\"Functional\"].value_counts().index[0], inplace = True)\n",
    "    df[\"GarageCond\"].fillna(train_data[\"GarageCond\"].value_counts().index[0], inplace = True)\n",
    "    df[\"GarageFinish\"].fillna(train_data[\"GarageFinish\"].value_counts().index[0], inplace = True)\n",
    "    df[\"GarageQual\"].fillna(train_data[\"GarageQual\"].value_counts().index[0], inplace = True)\n",
    "    df[\"GarageType\"].fillna(train_data[\"GarageType\"].value_counts().index[0], inplace = True)\n",
    "    df[\"KitchenQual\"].fillna(train_data[\"KitchenQual\"].value_counts().index[0], inplace = True)\n",
    "    df[\"MSSubClass\"].fillna(train_data[\"MSSubClass\"].value_counts().index[0], inplace = True)\n",
    "    df[\"MSZoning\"].fillna(train_data[\"MSZoning\"].value_counts().index[0], inplace = True)\n",
    "    df[\"MasVnrType\"].fillna(train_data[\"MasVnrType\"].value_counts().index[0], inplace = True)\n",
    "    df[\"SaleType\"].fillna(train_data[\"SaleType\"].value_counts().index[0], inplace = True)\n",
    "    df[\"Utilities\"].fillna(train_data[\"Utilities\"].value_counts().index[0], inplace = True)\n",
    "\n",
    "    # Fill NA's with explicit categorical value\n",
    "    df[\"Alley\"].fillna(\"NoAlley\", inplace = True)\n",
    "    df[\"Fence\"].fillna(\"NoFence\", inplace = True)\n",
    "    df[\"FireplaceQu\"].fillna(\"NoFireplace\", inplace = True)\n",
    "    df[\"MiscFeature\"].fillna(\"NoFeature\", inplace = True)\n",
    "    df[\"PoolQC\"].fillna(\"NoPool\", inplace = True)\n",
    "    \n",
    "    return df"
   ]
  },
  {
   "cell_type": "code",
   "execution_count": 383,
   "metadata": {},
   "outputs": [],
   "source": [
    "# Seperate features and label\n",
    "train_x = train_data.drop([\"SalePrice\", \"Id\"], axis = 1)\n",
    "train_y = train_data[\"SalePrice\"].copy()\n",
    "\n",
    "test_x = test.drop([\"Id\"], axis = 1)"
   ]
  },
  {
   "cell_type": "code",
   "execution_count": 384,
   "metadata": {},
   "outputs": [],
   "source": [
    "# fill missing\n",
    "train_filled = fill_missing(train_x)\n",
    "test_filled = fill_missing(test_x)\n",
    "\n",
    "merged_filled = pd.concat([train_filled, test_filled])"
   ]
  },
  {
   "cell_type": "code",
   "execution_count": 385,
   "metadata": {},
   "outputs": [
    {
     "name": "stdout",
     "output_type": "stream",
     "text": [
      "Categorical feature: GarageQual has differing number of values in train {'Fa', 'Ex', 'Gd', 'Po', 'TA'} and test {'Gd', 'Po', 'Fa', 'TA'}\n",
      "Categorical feature: PoolQC has differing number of values in train {'Gd', 'NoPool', 'Ex', 'Fa'} and test {'Gd', 'NoPool', 'Ex'}\n",
      "Categorical feature: Utilities has differing number of values in train {'AllPub', 'NoSeWa'} and test {'AllPub'}\n",
      "Categorical feature: Condition2 has differing number of values in train {'Feedr', 'PosN', 'Artery', 'RRNn', 'PosA', 'RRAn', 'Norm', 'RRAe'} and test {'Feedr', 'PosN', 'Artery', 'PosA', 'Norm'}\n",
      "Categorical feature: HouseStyle has differing number of values in train {'2Story', 'SLvl', '2.5Unf', '1.5Fin', 'SFoyer', '1Story', '2.5Fin', '1.5Unf'} and test {'2Story', 'SLvl', '2.5Unf', '1.5Fin', 'SFoyer', '1Story', '1.5Unf'}\n",
      "Categorical feature: RoofMatl has differing number of values in train {'WdShngl', 'Membran', 'Roll', 'CompShg', 'ClyTile', 'WdShake', 'Tar&Grv', 'Metal'} and test {'WdShake', 'Tar&Grv', 'WdShngl', 'CompShg'}\n",
      "Categorical feature: Exterior1st has differing number of values in train {'HdBoard', 'Plywood', 'AsphShn', 'WdShing', 'CBlock', 'BrkComm', 'AsbShng', 'Stucco', 'Wd Sdng', 'MetalSd', 'BrkFace', 'Stone', 'VinylSd', 'CemntBd', 'ImStucc'} and test {'HdBoard', 'Plywood', 'AsphShn', 'WdShing', 'CBlock', 'BrkComm', 'AsbShng', 'Stucco', 'MetalSd', 'Wd Sdng', 'BrkFace', 'VinylSd', 'CemntBd'}\n",
      "Categorical feature: Exterior2nd has differing number of values in train {'HdBoard', 'Plywood', 'CmentBd', 'AsphShn', 'Other', 'Stucco', 'AsbShng', 'MetalSd', 'Wd Shng', 'Wd Sdng', 'BrkFace', 'Stone', 'VinylSd', 'CBlock', 'ImStucc', 'Brk Cmn'} and test {'HdBoard', 'Plywood', 'CmentBd', 'AsphShn', 'AsbShng', 'Stucco', 'MetalSd', 'Wd Sdng', 'Wd Shng', 'BrkFace', 'Stone', 'VinylSd', 'CBlock', 'ImStucc', 'Brk Cmn'}\n",
      "Categorical feature: Heating has differing number of values in train {'GasA', 'Floor', 'OthW', 'Grav', 'Wall', 'GasW'} and test {'GasA', 'Wall', 'Grav', 'GasW'}\n",
      "Categorical feature: Electrical has differing number of values in train {'FuseP', 'Mix', 'FuseF', 'SBrkr', 'FuseA'} and test {'FuseP', 'SBrkr', 'FuseF', 'FuseA'}\n",
      "Categorical feature: MiscFeature has differing number of values in train {'Shed', 'Gar2', 'NoFeature', 'TenC', 'Othr'} and test {'Othr', 'Gar2', 'Shed', 'NoFeature'}\n"
     ]
    }
   ],
   "source": [
    "# Find out categorical features with differing number of values in train and test set\n",
    "ordinals = [\"OverallQual\", \"OverallCond\", \"ExterQual\", \"ExterCond\", \"BsmtQual\", \"BsmtCond\", \"BsmtExposure\", \"BsmtFinType1\", \"BsmtFinType2\", \"HeatingQC\", \"KitchenQual\", \"Functional\", \"FireplaceQu\", \"GarageQual\", \"GarageCond\", \"PoolQC\", \"Fence\"]\n",
    "onehots = [\"MSSubClass\", \"MSZoning\", \"Street\", \"Alley\", \"LotShape\", \"LandContour\", \"Utilities\", \"LotConfig\", \"LandSlope\", \"Neighborhood\", \"Condition1\", \"Condition2\", \"BldgType\", \"HouseStyle\", \"RoofStyle\", \"RoofMatl\", \"Exterior1st\", \"Exterior2nd\", \"MasVnrType\", \"Foundation\", \"Heating\", \"CentralAir\", \"Electrical\", \"GarageType\", \"GarageFinish\", \"PavedDrive\", \"MiscFeature\", \"MoSold\", \"SaleType\", \"SaleCondition\"]\n",
    "\n",
    "all_categories = ordinals + onehots\n",
    "\n",
    "for cat in all_categories:\n",
    "    train_values = set(train_filled[cat].unique())\n",
    "    test_values = set(test_filled[cat].unique())\n",
    "    if train_values - test_values:\n",
    "        print(f\"Categorical feature: {cat} has differing number of values in train {train_values} and test {test_values}\")"
   ]
  },
  {
   "cell_type": "code",
   "execution_count": 386,
   "metadata": {},
   "outputs": [],
   "source": [
    "# Full pipe with column transformer on each feature that needs data prep\n",
    "from sklearn.compose import ColumnTransformer\n",
    "from sklearn.pipeline import Pipeline\n",
    "from sklearn.preprocessing import StandardScaler, OneHotEncoder, OrdinalEncoder\n",
    "from sklearn.preprocessing import KBinsDiscretizer\n",
    "\n",
    "full_pipe = ColumnTransformer([\n",
    "    # special treatment for encoding categorical features that have differing number of values in train and test set\n",
    "    (\"MSSubClass\", OneHotEncoder(categories = [sorted(merged_filled[\"MSSubClass\"].unique())]), [\"MSSubClass\"]), \n",
    "    (\"Utilities\", OneHotEncoder(categories = [sorted(merged_filled[\"Utilities\"].unique(), key = lambda x : float('-inf') if x is np.nan else x)]), [\"Utilities\"]), \n",
    "    (\"Condition2\", OneHotEncoder(categories = [sorted(merged_filled[\"Condition2\"].unique())]), [\"Condition2\"]), \n",
    "    (\"HouseStyle\", OneHotEncoder(categories = [sorted(merged_filled[\"HouseStyle\"].unique())]), [\"HouseStyle\"]), \n",
    "    (\"RoofMatl\", OneHotEncoder(categories = [sorted(merged_filled[\"RoofMatl\"].unique())]), [\"RoofMatl\"]), \n",
    "    (\"Exterior1st\", OneHotEncoder(categories = [sorted(merged_filled[\"Exterior1st\"].unique())]), [\"Exterior1st\"]), \n",
    "    (\"Exterior2nd\", OneHotEncoder(categories = [sorted(merged_filled[\"Exterior2nd\"].unique())]), [\"Exterior2nd\"]), \n",
    "    (\"Heating\", OneHotEncoder(categories = [sorted(merged_filled[\"Heating\"].unique())]), [\"Heating\"]), \n",
    "    (\"Electrical\", OneHotEncoder(categories = [sorted(merged_filled[\"Electrical\"].unique())]), [\"Electrical\"]), \n",
    "    (\"MiscFeature\", OneHotEncoder(categories = [sorted(merged_filled[\"MiscFeature\"].unique())]), [\"MiscFeature\"]), \n",
    "    \n",
    "    (\"GarageQual\", OrdinalEncoder(categories = [sorted(merged_filled[\"GarageQual\"].unique())]), [\"GarageQual\"]), \n",
    "    (\"PoolQC\", OrdinalEncoder(categories = [sorted(merged_filled[\"PoolQC\"].unique())]), [\"PoolQC\"]), \n",
    "    \n",
    "    (\"discretize_year\", KBinsDiscretizer(n_bins=10, encode='onehot'), [\"GarageYrBlt\", \"YearBuilt\", \"YearRemodAdd\", \"YrSold\"]),\n",
    "    (\"std_scaling\", StandardScaler(), [\"LotFrontage\", \"LotArea\", \"MasVnrArea\", \"BsmtFinSF1\", \"BsmtFinSF2\", \"BsmtUnfSF\", \"TotalBsmtSF\", \"1stFlrSF\", \"2ndFlrSF\", \"LowQualFinSF\", \"GrLivArea\", \"BsmtFullBath\", \"BsmtHalfBath\", \"FullBath\", \"HalfBath\", \"BedroomAbvGr\", \"KitchenAbvGr\", \"TotRmsAbvGrd\", \"Fireplaces\", \"GarageCars\", \"GarageArea\", \"WoodDeckSF\", \"OpenPorchSF\", \"EnclosedPorch\", \"3SsnPorch\", \"ScreenPorch\", \"PoolArea\", \"MiscVal\"]),\n",
    "    (\"onehot_encode\", OneHotEncoder(), [\"MSZoning\", \"Street\", \"Alley\", \"LotShape\", \"LandContour\", \"LotConfig\", \"LandSlope\", \"Neighborhood\", \"Condition1\", \"BldgType\", \"RoofStyle\", \"MasVnrType\", \"Foundation\", \"CentralAir\", \"GarageType\", \"GarageFinish\", \"PavedDrive\", \"MoSold\", \"SaleType\", \"SaleCondition\"]),\n",
    "    (\"ordinal_encode\", OrdinalEncoder(), [\"OverallQual\", \"OverallCond\", \"ExterQual\", \"ExterCond\", \"BsmtQual\", \"BsmtCond\", \"BsmtExposure\", \"BsmtFinType1\", \"BsmtFinType2\", \"HeatingQC\", \"KitchenQual\", \"Functional\", \"FireplaceQu\", \"GarageCond\", \"Fence\"]),\n",
    "], remainder = \"passthrough\")"
   ]
  },
  {
   "cell_type": "code",
   "execution_count": 387,
   "metadata": {},
   "outputs": [],
   "source": [
    "# run data prep pipeline on all data segments\n",
    "train_prepared = full_pipe.fit_transform(train_filled)\n",
    "test_prepared = full_pipe.fit_transform(test_filled)"
   ]
  },
  {
   "cell_type": "code",
   "execution_count": 388,
   "metadata": {},
   "outputs": [
    {
     "data": {
      "text/plain": [
       "(1460, 289)"
      ]
     },
     "execution_count": 388,
     "metadata": {},
     "output_type": "execute_result"
    }
   ],
   "source": [
    "train_prepared.shape"
   ]
  },
  {
   "cell_type": "code",
   "execution_count": 389,
   "metadata": {},
   "outputs": [
    {
     "data": {
      "text/plain": [
       "(1459, 289)"
      ]
     },
     "execution_count": 389,
     "metadata": {},
     "output_type": "execute_result"
    }
   ],
   "source": [
    "test_prepared.shape"
   ]
  },
  {
   "cell_type": "markdown",
   "metadata": {},
   "source": [
    "# 3. Model selection"
   ]
  },
  {
   "cell_type": "code",
   "execution_count": 390,
   "metadata": {},
   "outputs": [],
   "source": [
    "import sklearn.linear_model\n",
    "import sklearn.tree\n",
    "import sklearn.ensemble\n",
    "import sklearn.kernel_ridge\n",
    "import sklearn.neighbors\n",
    "import sklearn.svm\n",
    "import sklearn.cross_decomposition\n",
    "import sklearn.compose\n",
    "\n",
    "from sklearn.metrics import mean_squared_error\n",
    "import numpy as np\n",
    "\n",
    "import warnings\n",
    "\n",
    "class Regressor:\n",
    "    def __init__(self, label, model, score = float(\"inf\")):\n",
    "        self.label = label\n",
    "        self.model = model\n",
    "        self.score = score\n",
    "\n",
    "def fit_eval(regressor):\n",
    "    warnings.filterwarnings('ignore')\n",
    "    try:\n",
    "        regressor.model.fit(train_prepared.toarray(), train_y)\n",
    "        predictions = regressor.model.predict(train_prepared.toarray())\n",
    "        mse = mean_squared_error(train_y, predictions)\n",
    "        regressor.score = np.sqrt(mse)\n",
    "    except ValueError:\n",
    "        print(f\"ValueError while training {regressor.label}\")"
   ]
  },
  {
   "cell_type": "code",
   "execution_count": 391,
   "metadata": {},
   "outputs": [
    {
     "name": "stdout",
     "output_type": "stream",
     "text": [
      "ARDRegression MSE: 28263.525035700437\n",
      "AdaBoostRegressor MSE: 28089.877661936098\n",
      "BaggingRegressor MSE: 16916.652784617938\n",
      "BayesianRidge MSE: 26472.339294274174\n",
      "CCA MSE: 67071.86911582811\n",
      "DecisionTreeRegressor MSE: 0.0\n",
      "ElasticNet MSE: 31851.88586933182\n",
      "ElasticNetCV MSE: 73475.69246408706\n",
      "ExtraTreeRegressor MSE: 0.0\n",
      "ExtraTreesRegressor MSE: 0.0\n",
      "GaussianProcessRegressor MSE: 1.9670129597729957e-05\n",
      "GradientBoostingRegressor MSE: 14867.920124221744\n",
      "HuberRegressor MSE: 29387.241292964638\n",
      "KNeighborsRegressor MSE: 31525.988512073178\n",
      "KernelRidge MSE: 23321.801490892973\n",
      "Lars MSE: 1.3104456923887348e+16\n",
      "LarsCV MSE: 1.3104575718962656e+16\n",
      "Lasso MSE: 21846.373271707245\n",
      "LassoCV MSE: 24264.063878395704\n",
      "LassoLars MSE: 23338.850585343138\n",
      "LassoLarsCV MSE: 24480.18966651223\n",
      "LassoLarsIC MSE: 28218.579759283723\n",
      "LinearRegression MSE: 21844.280905681044\n",
      "LinearSVR MSE: 82815.41760949198\n",
      "MLPRegressor MSE: 170798.3984823012\n",
      "ValueError while training MultiTaskElasticNet\n",
      "MultiTaskElasticNet MSE: inf\n",
      "ValueError while training MultiTaskElasticNetCV\n",
      "MultiTaskElasticNetCV MSE: inf\n",
      "ValueError while training MultiTaskLasso\n",
      "MultiTaskLasso MSE: inf\n",
      "ValueError while training MultiTaskLassoCV\n",
      "MultiTaskLassoCV MSE: inf\n",
      "NuSVR MSE: 79889.21188347804\n",
      "OrthogonalMatchingPursuit MSE: 25306.261237678245\n",
      "OrthogonalMatchingPursuitCV MSE: 25306.261237678245\n",
      "PLSCanonical MSE: 245756.10806623806\n",
      "PLSRegression MSE: 31262.074219246024\n",
      "PassiveAggressiveRegressor MSE: 49729.025717754375\n",
      "RANSACRegressor MSE: 17722020982235.53\n",
      "RadiusNeighborsRegressor MSE: 153.59839111600309\n",
      "RandomForestRegressor MSE: 12030.33267839006\n",
      "Ridge MSE: 23329.639863846354\n",
      "RidgeCV MSE: 25812.709697437393\n",
      "SGDRegressor MSE: 30441.70004959133\n",
      "SVR MSE: 81373.09580815258\n",
      "TheilSenRegressor MSE: 29466.36202591052\n",
      "TransformedTargetRegressor MSE: 21844.280905681044\n"
     ]
    }
   ],
   "source": [
    "import sklearn.utils.testing\n",
    "from collections import namedtuple\n",
    "\n",
    "# train and evaluate all regressors available in sklearn\n",
    "regressors = []\n",
    "for r in sklearn.utils.testing.all_estimators(type_filter='regressor'):\n",
    "    regressor = Regressor(r[0], r[1]())\n",
    "    fit_eval(regressor)\n",
    "    print(f\"{regressor.label} MSE: {regressor.score}\")\n",
    "    regressors.append(regressor)"
   ]
  },
  {
   "cell_type": "markdown",
   "metadata": {},
   "source": [
    "*From all regressors available in sklearn - BaggingRegressor, GradientBoostingRegressor and RandomForestRegressor have lowest mean squared root error. The regressors are all used with default hyper parameters. Some regressors produced RMSE of zero, which is not plausible and therefore omitted from choices of model.*"
   ]
  },
  {
   "cell_type": "markdown",
   "metadata": {},
   "source": [
    "# 4. Hyper parameter tuning"
   ]
  },
  {
   "cell_type": "markdown",
   "metadata": {},
   "source": [
    "From best performing models the GradientBoostingRegressor was chosen. Now let us try to tune the hyperparameters using RandomizedSearchCV."
   ]
  },
  {
   "cell_type": "code",
   "execution_count": 392,
   "metadata": {},
   "outputs": [
    {
     "name": "stdout",
     "output_type": "stream",
     "text": [
      "Fitting 5 folds for each of 81 candidates, totalling 405 fits\n"
     ]
    },
    {
     "name": "stderr",
     "output_type": "stream",
     "text": [
      "[Parallel(n_jobs=-1)]: Using backend LokyBackend with 4 concurrent workers.\n",
      "[Parallel(n_jobs=-1)]: Done  10 tasks      | elapsed:   12.1s\n",
      "[Parallel(n_jobs=-1)]: Done  64 tasks      | elapsed:  1.6min\n",
      "[Parallel(n_jobs=-1)]: Done 154 tasks      | elapsed:  7.5min\n",
      "[Parallel(n_jobs=-1)]: Done 280 tasks      | elapsed: 14.4min\n",
      "[Parallel(n_jobs=-1)]: Done 405 out of 405 | elapsed: 21.7min finished\n"
     ]
    },
    {
     "data": {
      "text/plain": [
       "RandomizedSearchCV(cv=5, error_score='raise-deprecating',\n",
       "          estimator=GradientBoostingRegressor(alpha=0.9, criterion='friedman_mse', init=None,\n",
       "             learning_rate=0.1, loss='ls', max_depth=3, max_features=None,\n",
       "             max_leaf_nodes=None, min_impurity_decrease=0.0,\n",
       "             min_impurity_split=None, min_samples_leaf=1,\n",
       "             min_sampl...=None, subsample=1.0, tol=0.0001,\n",
       "             validation_fraction=0.1, verbose=0, warm_start=False),\n",
       "          fit_params=None, iid='warn', n_iter=100, n_jobs=-1,\n",
       "          param_distributions={'n_estimators': [500, 1000, 2000], 'learning_rate': [0.001, 0.01, 0.1], 'max_depth': [1, 2, 4], 'subsample': [0.5, 0.75, 1], 'random_state': [1]},\n",
       "          pre_dispatch='2*n_jobs', random_state=42, refit=True,\n",
       "          return_train_score=True, scoring='neg_mean_squared_error',\n",
       "          verbose=5)"
      ]
     },
     "execution_count": 392,
     "metadata": {},
     "output_type": "execute_result"
    }
   ],
   "source": [
    "from sklearn.model_selection import RandomizedSearchCV\n",
    "from sklearn.ensemble import GradientBoostingRegressor\n",
    "\n",
    "# Search space for hyper parameters\n",
    "hyperparameters = {'n_estimators':[500,1000,2000],\n",
    "                   'learning_rate':[.001,0.01,.1],\n",
    "                   'max_depth':[1,2,4],\n",
    "                   'subsample':[.5,.75,1],\n",
    "                   'random_state':[1]}\n",
    "\n",
    "random_cv = RandomizedSearchCV(estimator=GradientBoostingRegressor(),\n",
    "            param_distributions=hyperparameters,\n",
    "            cv=5, n_iter=100,\n",
    "            scoring = 'neg_mean_squared_error',n_jobs = -1,\n",
    "            verbose = 5, \n",
    "            return_train_score = True,\n",
    "            random_state=42)\n",
    "random_cv.fit(train_prepared, train_y)"
   ]
  },
  {
   "cell_type": "code",
   "execution_count": 394,
   "metadata": {},
   "outputs": [
    {
     "name": "stdout",
     "output_type": "stream",
     "text": [
      "5606.726800507456\n"
     ]
    }
   ],
   "source": [
    "selected_model = random_cv.best_estimator_\n",
    "selected_model.fit(train_prepared.toarray(), train_y)\n",
    "predictions = selected_model.predict(train_prepared.toarray())\n",
    "mse = mean_squared_error(train_y, predictions)\n",
    "print(np.sqrt(mse))"
   ]
  },
  {
   "cell_type": "markdown",
   "metadata": {},
   "source": [
    "# 5. Predictions"
   ]
  },
  {
   "cell_type": "code",
   "execution_count": 398,
   "metadata": {},
   "outputs": [],
   "source": [
    "test_predictions = selected_model.predict(test_prepared)\n",
    "submission = pd.DataFrame({\"Id\": test[\"Id\"], \"SalePrice\": test_predictions})\n",
    "submission.to_csv(\"submission.csv\", index = False)\n",
    "# This submission resulted in Root Mean Square Logarathmic Error of 0.1415"
   ]
  }
 ],
 "metadata": {
  "kernelspec": {
   "display_name": "Python 3",
   "language": "python",
   "name": "python3"
  },
  "language_info": {
   "codemirror_mode": {
    "name": "ipython",
    "version": 3
   },
   "file_extension": ".py",
   "mimetype": "text/x-python",
   "name": "python",
   "nbconvert_exporter": "python",
   "pygments_lexer": "ipython3",
   "version": "3.7.1"
  }
 },
 "nbformat": 4,
 "nbformat_minor": 2
}
